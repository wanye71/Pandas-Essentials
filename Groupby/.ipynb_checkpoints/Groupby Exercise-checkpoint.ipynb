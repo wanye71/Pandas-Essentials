{
 "cells": [
  {
   "cell_type": "code",
   "execution_count": null,
   "id": "33f85fc8-3c09-4f20-992c-6fff077c9894",
   "metadata": {},
   "outputs": [],
   "source": [
    "import pandas as pd\n",
    "import matplotlib.pyplot as plt\n",
    "\n",
    "%matplotlib inline"
   ]
  },
  {
   "cell_type": "code",
   "execution_count": null,
   "id": "eb02cfd9-dd0b-450d-8d37-24439972d1b4",
   "metadata": {},
   "outputs": [],
   "source": [
    "olympics_df = pd.read_csv('../olympics.csv', skiprows=4)\n",
    "olympics_df.head()"
   ]
  },
  {
   "cell_type": "markdown",
   "id": "cfa44470-3889-468c-a80d-d02530ad1848",
   "metadata": {},
   "source": [
    "## Iterating through groups"
   ]
  },
  {
   "cell_type": "code",
   "execution_count": null,
   "id": "d2057e29-e8c9-4c57-a3e5-eada5b34c227",
   "metadata": {},
   "outputs": [],
   "source": [
    "# Loop through group by object\n",
    "for group_key, group_value in olympics_df.groupby('Edition'):\n",
    "    print(group_key)\n",
    "    print(group_value)"
   ]
  },
  {
   "cell_type": "code",
   "execution_count": null,
   "id": "253c6c2a-8134-4838-ac22-d7adc0b50ae2",
   "metadata": {},
   "outputs": [],
   "source": [
    "type(group_value)"
   ]
  },
  {
   "cell_type": "code",
   "execution_count": null,
   "id": "5c00eb80-1f59-44ed-b663-aed7b788dcf7",
   "metadata": {},
   "outputs": [],
   "source": []
  },
  {
   "cell_type": "markdown",
   "id": "bc9523dc-243a-4600-b16f-3d191ce0b5ab",
   "metadata": {},
   "source": [
    "## Group by computation"
   ]
  },
  {
   "cell_type": "code",
   "execution_count": null,
   "id": "c24b9382-b713-4d50-9e0f-b4662e3b2a0f",
   "metadata": {},
   "outputs": [],
   "source": [
    "# Get the count of medals for the Edition group\n",
    "olympics_df.groupby('Edition').size()"
   ]
  },
  {
   "cell_type": "markdown",
   "id": "15a44318-c45a-4c7e-a3cb-861879118de6",
   "metadata": {},
   "source": [
    "## aff([...])\n",
    "\n",
    "#### The aggregate function allows for multiple statistics to be calculated per group in one calculation."
   ]
  },
  {
   "cell_type": "code",
   "execution_count": null,
   "id": "7cb456bd-11c2-4897-acc9-837bc5b36bc8",
   "metadata": {},
   "outputs": [],
   "source": [
    "# Group by edition, the country represented, and the medals\n",
    "olympics_df.groupby(['Edition', 'NOC', 'Medal']).agg('count')"
   ]
  },
  {
   "cell_type": "code",
   "execution_count": null,
   "id": "2acd98ed-920d-4af2-857c-8575bd0ac2ea",
   "metadata": {},
   "outputs": [],
   "source": [
    "# Group by edition, the country represented, and the medals\n",
    "olympics_df.groupby(['Edition', 'NOC', 'Medal']).size()"
   ]
  },
  {
   "cell_type": "markdown",
   "id": "66713ab8-1e19-44ca-96ed-ee6766677c61",
   "metadata": {},
   "source": [
    "## agg({:[...]})\n",
    "#### A dict like structure"
   ]
  },
  {
   "cell_type": "code",
   "execution_count": null,
   "id": "62536c5f-d77b-4123-b3b9-d4deb1fb0f1f",
   "metadata": {},
   "outputs": [],
   "source": [
    "olympics_df.groupby(['Edition', 'NOC', 'Medal']).agg({'Edition' :['min', 'max', 'count']})"
   ]
  },
  {
   "cell_type": "code",
   "execution_count": null,
   "id": "c91fba78-ebbe-442c-89b3-c155af71bffd",
   "metadata": {},
   "outputs": [],
   "source": [
    "# Find Carl Lewis and then groupby Athlete\n",
    "olympics_df[olympics_df.Athlete == 'LEWIS, Carl'].groupby(['Medal', 'Athlete']).agg({'Edition' :['min', 'max', 'count']})"
   ]
  },
  {
   "cell_type": "code",
   "execution_count": null,
   "id": "4c095a28-1f51-4984-ba33-7b312d05e0cc",
   "metadata": {},
   "outputs": [],
   "source": []
  }
 ],
 "metadata": {
  "kernelspec": {
   "display_name": "Python 3 (ipykernel)",
   "language": "python",
   "name": "python3"
  },
  "language_info": {
   "codemirror_mode": {
    "name": "ipython",
    "version": 3
   },
   "file_extension": ".py",
   "mimetype": "text/x-python",
   "name": "python",
   "nbconvert_exporter": "python",
   "pygments_lexer": "ipython3",
   "version": "3.11.7"
  }
 },
 "nbformat": 4,
 "nbformat_minor": 5
}
