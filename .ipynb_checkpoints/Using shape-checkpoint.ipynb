{
 "cells": [
  {
   "cell_type": "markdown",
   "id": "f7b2319b-78b7-4a71-ab09-c3094e9dcdd1",
   "metadata": {},
   "source": [
    "# Data Input and Validation"
   ]
  },
  {
   "cell_type": "code",
   "execution_count": 2,
   "id": "5697b371-aa1f-4c4f-86cc-f6014646117a",
   "metadata": {},
   "outputs": [],
   "source": [
    "import pandas as pd"
   ]
  },
  {
   "cell_type": "markdown",
   "id": "64a6be32-05c7-4468-9dfc-fac43097c9a1",
   "metadata": {},
   "source": [
    "## Overview and validation of data\n",
    "### Shape"
   ]
  },
  {
   "cell_type": "code",
   "execution_count": 3,
   "id": "6d58b8f4-f771-45ae-b544-d1505c1d1fe9",
   "metadata": {},
   "outputs": [],
   "source": [
    "olympic_df = pd.read_csv('olympics.csv', skiprows=4)"
   ]
  },
  {
   "cell_type": "code",
   "execution_count": 4,
   "id": "29a816b3-179f-4f04-8e82-e08a7c67d92e",
   "metadata": {},
   "outputs": [
    {
     "data": {
      "text/plain": [
       "(29216, 10)"
      ]
     },
     "execution_count": 4,
     "metadata": {},
     "output_type": "execute_result"
    }
   ],
   "source": [
    "olympic_df.shape"
   ]
  },
  {
   "cell_type": "code",
   "execution_count": 5,
   "id": "b4d9394b-1b34-4944-af69-e13fd1f1c1fd",
   "metadata": {},
   "outputs": [
    {
     "data": {
      "text/plain": [
       "29216"
      ]
     },
     "execution_count": 5,
     "metadata": {},
     "output_type": "execute_result"
    }
   ],
   "source": [
    "olympic_df.shape[0]"
   ]
  },
  {
   "cell_type": "code",
   "execution_count": 6,
   "id": "858c7666-ea3e-4633-993d-eba380a6bd36",
   "metadata": {},
   "outputs": [
    {
     "data": {
      "text/plain": [
       "10"
      ]
     },
     "execution_count": 6,
     "metadata": {},
     "output_type": "execute_result"
    }
   ],
   "source": [
    "olympic_df.shape[1]"
   ]
  },
  {
   "cell_type": "code",
   "execution_count": null,
   "id": "47508b84-fbcd-4a05-b19d-66d95b19dad0",
   "metadata": {},
   "outputs": [],
   "source": []
  }
 ],
 "metadata": {
  "kernelspec": {
   "display_name": "Python 3 (ipykernel)",
   "language": "python",
   "name": "python3"
  },
  "language_info": {
   "codemirror_mode": {
    "name": "ipython",
    "version": 3
   },
   "file_extension": ".py",
   "mimetype": "text/x-python",
   "name": "python",
   "nbconvert_exporter": "python",
   "pygments_lexer": "ipython3",
   "version": "3.11.7"
  }
 },
 "nbformat": 4,
 "nbformat_minor": 5
}
